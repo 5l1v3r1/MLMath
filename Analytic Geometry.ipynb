{
 "cells": [
  {
   "cell_type": "markdown",
   "metadata": {},
   "source": [
    "# Mathematics for Machine Learning"
   ]
  },
  {
   "cell_type": "markdown",
   "metadata": {},
   "source": [
    "Compressed material based on **\"Mathematics for Machine Learning\"** by Marc Peter Deisenroth, A Aldo Faisal, and Cheng Soon Ong. To be published by Cambridge University Press. https://mml-book.com\n",
    "\n",
    "📌 **Additional resources:**\n",
    "\n",
    "- [3Blue1Brown](https://www.youtube.com/channel/UCYO_jab_esuFRV4b17AJtAw)\n",
    "- [MathTheBeautiful](https://www.youtube.com/channel/UCr22xikWUK2yUW4YxOKXclQ)\n",
    "- [Jonathan Sprinkle](https://www.youtube.com/watch?v=SXEYIGqXSxk)\n",
    "- Visualizations & GIFs created by [Mrityunjay]"
   ]
  },
  {
   "cell_type": "markdown",
   "metadata": {},
   "source": [
    "# Analytic Geometry"
   ]
  },
  {
   "cell_type": "markdown",
   "metadata": {},
   "source": [
    "We will look at geometric vectors and **compute their lengths and distances** or the **angles between two vectors**.\n",
    "To be able to do this, we equip the vector space with an inner product that induces the geometry of the vector\n",
    "space. Inner products and their corresponding norms and metrics capture the intuitive notions of **similarity and distances**. We will then use the concepts of lengths and angles between vectors to discuss **orthogonal projections**."
   ]
  },
  {
   "cell_type": "markdown",
   "metadata": {},
   "source": [
    "### Norms\n",
    "\n",
    "When we think of geometric vectors, i.e., directed line segments that start at the origin, then intuitively **the length of a vector is the distance from origin to the end point of this directed line segment**.\n",
    "\n",
    "<p align=\"left\"><img src=\"Images/norms.png\" width=\"600\"></p>\n",
    "\n",
    "*Image source: Deisenroth et al. (2019)*"
   ]
  },
  {
   "cell_type": "markdown",
   "metadata": {},
   "source": [
    "A *norm* on a vector space *V* is a function norm\n",
    "\n",
    "\\begin{aligned}\\|\\cdot\\| :  V \\rightarrow {\\rm I\\!R} \\\\\n",
    "\\boldsymbol{x} \\mapsto\\|\\boldsymbol{x}\\| \\end{aligned}\n",
    "\n",
    "which assigns each vector x its length || x || ∈ ${\\rm I\\!R}$, such that for all λ ∈ ${\\rm I\\!R}$ length and x, y ∈ *V* the following hold:\n",
    "\n",
    "- Absolutely homogeneous\n",
    "- Triangle inequality\n",
    "- Positive definite"
   ]
  },
  {
   "cell_type": "markdown",
   "metadata": {},
   "source": [
    "&nbsp;"
   ]
  },
  {
   "cell_type": "markdown",
   "metadata": {},
   "source": [
    "📌 **YouTube Video (~8min)** \n",
    "\n",
    "### Visualizing norms as a unit circle\n",
    "Jonathan Sprinkle [[Watch video]](https://www.youtube.com/watch?v=SXEYIGqXSxk)"
   ]
  },
  {
   "cell_type": "markdown",
   "metadata": {},
   "source": [
    "<tr>\n",
    "    <td> <img src=\"Images/norms_vid.png\" style=\"width:620px;\"/> </td>\n",
    "    <td> <img src=\"Images/norms.gif\" style=\"width: 350px;\"/> </td>\n",
    "    </tr>\n",
    "    \n",
    "*Image source: Jonathan Sprinkle* | *GIF Credits: ADD CREDITS*"
   ]
  },
  {
   "cell_type": "markdown",
   "metadata": {},
   "source": [
    "&nbsp;"
   ]
  },
  {
   "cell_type": "code",
   "execution_count": null,
   "metadata": {},
   "outputs": [],
   "source": []
  }
 ],
 "metadata": {
  "kernelspec": {
   "display_name": "Python 3",
   "language": "python",
   "name": "python3"
  },
  "language_info": {
   "codemirror_mode": {
    "name": "ipython",
    "version": 3
   },
   "file_extension": ".py",
   "mimetype": "text/x-python",
   "name": "python",
   "nbconvert_exporter": "python",
   "pygments_lexer": "ipython3",
   "version": "3.6.4"
  }
 },
 "nbformat": 4,
 "nbformat_minor": 2
}
