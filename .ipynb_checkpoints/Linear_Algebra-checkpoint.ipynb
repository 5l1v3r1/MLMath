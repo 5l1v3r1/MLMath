{
 "cells": [
  {
   "cell_type": "markdown",
   "metadata": {},
   "source": [
    "# Mathematics for Machine Learning"
   ]
  },
  {
   "cell_type": "markdown",
   "metadata": {},
   "source": [
    "Compressed material based on **\"Mathematics for Machine Learning\"** by Marc Peter Deisenroth, A Aldo Faisal, and Cheng Soon Ong. To be published by Cambridge University Press. https://mml-book.com\n",
    "\n",
    "📌 **Additional resources:**\n",
    "\n",
    "- [3Blue1Brown](https://www.youtube.com/channel/UCYO_jab_esuFRV4b17AJtAw)\n",
    "- [MathTheBeautiful](https://www.youtube.com/channel/UCr22xikWUK2yUW4YxOKXclQ)"
   ]
  },
  {
   "cell_type": "markdown",
   "metadata": {},
   "source": [
    "**Machine learning** is about designing and training systems to extract valuable information from data and, make predictions and generalize well on unseen data. There are three concepts at the core of machine learning: **data, a model, and learning**. Learning can be understood as a process to automatically find patterns and structure in data by optimizing the parameters of the model.\n",
    "\n",
    "\n",
    "The main concepts in the MML book:\n",
    "- We represent data as vectors (${\\rm I\\!R}$<sup>n</sup> – n-dimensional vector space of real numbers)\n",
    "- We choose an appropriate model, either using the probabilistic or optimization view\n",
    "- We learn from available data by using numerical optimization methods with the aim that the model performs well on data not used for training\n"
   ]
  },
  {
   "cell_type": "markdown",
   "metadata": {},
   "source": [
    "# Linear Algebra"
   ]
  },
  {
   "cell_type": "markdown",
   "metadata": {},
   "source": [
    "Linear algebra is the study of vectors and rules to manipulate vectors.\n",
    "\n",
    "In general, vectors are objects that can be **added together** and **multiplied by scalars** to produce another object of the same kind. Any object that satisfies these two properties can be considered a vector (e.g. geometric vectory, polynomials, audio signals, elements of ${\\rm I\\!R}$<sup>n</sup>).\n"
   ]
  },
  {
   "cell_type": "markdown",
   "metadata": {},
   "source": [
    "&nbsp;"
   ]
  },
  {
   "cell_type": "markdown",
   "metadata": {},
   "source": [
    "📌 **YouTube Video (~10min)** \n",
    "\n",
    "### Vectors, what even are they? | Essence of linear algebra, chapter 1\n",
    "3BLUE1BROWN SERIES  S1 • E1 [[Watch video]](https://www.youtube.com/watch?v=fNk_zzaMoSs)"
   ]
  },
  {
   "cell_type": "markdown",
   "metadata": {},
   "source": [
    "[<p align=\"left\"><img src=\"Images/vectors.png\" width=\"400\"></p>](https://www.youtube.com/watch?v=fNk_zzaMoSs)\n",
    "\n",
    "*Image source: 3Blue1Brown*"
   ]
  },
  {
   "cell_type": "markdown",
   "metadata": {},
   "source": [
    "### Geometric vectors\n",
    "\n",
    "Geometric vectors (see Figure a) are directed segments, which can be drawn (at least in two dimensions). Two geometric vectors $\\vec{x}$, $\\vec{y}$ can be added, such that $\\vec{x}$+$\\vec{y}$ = $\\vec{z}$ is another geometric vector. Furthermore, multiplication by a scalar λ $\\vec{x}$, λ ∈ ${\\rm I\\!R}$, is also a geometric vector. In fact, it is the original vector scaled by λ.\n",
    "\n",
    "<p align=\"left\"><img src=\"Images/geom_vectors.png\" width=\"250\"></p>\n",
    "\n",
    "*Image source: Deisenroth et al. (2019)*"
   ]
  },
  {
   "cell_type": "markdown",
   "metadata": {},
   "source": [
    "&nbsp;"
   ]
  },
  {
   "cell_type": "markdown",
   "metadata": {},
   "source": [
    "📌 **YouTube Video (~10min)** \n",
    "\n",
    "### Linear Algebra 2d: Addition of Geometric Vectors\n",
    "Geometric vectors are directed segments. **MathTheBeautiful [[Watch video]](https://www.youtube.com/watch?v=kMP-Q0PF_7g&list=PLlXfTHzgMRUKXD88IdzS14F4NxAZudSmv&index=7&t=0s)**"
   ]
  },
  {
   "cell_type": "markdown",
   "metadata": {},
   "source": [
    "### Elements of ${\\rm I\\!R}$<sup>n</sup> (tuples of n real numbers)\n",
    "\n",
    "${\\rm I\\!R}$<sup>n</sup> is the concept we focus on. For instance,\n",
    "1\n",
    "a = 2 ∈ R3 (2.1)\n",
    "3\n",
    "is an example of a triplet of numbers. Adding two vectors a, b ∈ Rn component-wise results in another vector: a + b = c ∈ Rn. Moreover, multiplying a ∈ Rn by λ ∈ R results in a scaled vector λa ∈ Rn. Considering vectors as elements of Rn has an additional benefit that it loosely corresponds to arrays of real numbers on a computer. Many programming languages support array operations, which allow for con- venient implementation of algorithms that involve vector operations.\n",
    "\n",
    "<p align=\"left\"><img src=\"Images/vector.png\" width=\"150\"></p>\n",
    "\n",
    "*Image source: Deisenroth et al. (2019)*"
   ]
  },
  {
   "cell_type": "markdown",
   "metadata": {},
   "source": [
    "&nbsp;"
   ]
  },
  {
   "cell_type": "markdown",
   "metadata": {},
   "source": [
    "One major idea in mathematics is the idea of \"closure\". In the case of vectors: **What is the set of vectors that can result by starting with a small set of vectors, and adding them to each other and scaling them?** This results in a vector space.\n",
    "\n",
    "<p align=\"left\"><img src=\"Images/systems_lin_eq.png\" width=\"700\"></p>\n",
    "\n",
    "*Image source: Deisenroth et al. (2019)*"
   ]
  },
  {
   "cell_type": "markdown",
   "metadata": {},
   "source": []
  },
  {
   "cell_type": "markdown",
   "metadata": {},
   "source": []
  },
  {
   "cell_type": "markdown",
   "metadata": {},
   "source": [
    "### System of linear Equation\n",
    "\n",
    "Many problems can be formulated as a system of linear equation. for e.g.\n",
    "$$ 4x_1 + 4x_2 = 5, \\\\\n",
    "2x_1 + 4x_2 = 1 \\tag{1}$$\n",
    "where, $x_1$ and $x_2$ can be any 2 variables.\n",
    "\n",
    "we can also, convert our system of linear equality into matrix form which enables us to leverage the tools of provided by linear algebra.\n",
    "\n",
    "$$ \n",
    "\\begin{bmatrix}\n",
    "4 & 4 \\\\\n",
    "2 & 4 \\\\\n",
    "\\end{bmatrix}\n",
    "\\begin{bmatrix}\n",
    " x_1 \\\\\n",
    " x_2 \\\\\n",
    "\\end{bmatrix}\n",
    "=\n",
    "\\begin{bmatrix}\n",
    " 5 \\\\\n",
    " 1 \\\\\n",
    "\\end{bmatrix}\n",
    "$$\n",
    "\n",
    "Geometrically, these 2 equation represents 2 lines in $x_1,x_2$ plane respectively and the solution is a unique point,shown as a black **dot**:-\n",
    "\n",
    "<div align=\"center\" text-align=\"center\">\n",
    "<img src=\"Images/linear_eqn_2d.png\" width=\"300\">\n",
    "    <i>fig 1. source: MML Book</i>\n",
    "</div>\n",
    "\n",
    "\n",
    "Since a solution to a system of linear equations must satisfy all equations simultaneously, the solution set is the intersection of these lines. In the case of 2 variables, intersection set can be:\n",
    "*  an entire line (if the linear equations are identical ), \n",
    "*  a unique point , \n",
    "*  or empty (when the lines are parallel). \n",
    "    \n",
    "<div align=\"center\" text-align=\"center\">\n",
    "<img src=\"Images/2_var_sols.png\" width=\"600\">\n",
    "    <i> source: linear algebra and applications by gilbert strang.</i>\n",
    "</div>\n",
    "\n",
    "we can easily, extend these observations for $m$ number of equations having $n$ variables  like,  if we have $n = m = 3$ then, the possible solutions are going to be:-\n",
    "    \n",
    "<div align=\"center\" text-align=\"center\">\n",
    "<img src=\"Images/3_var_sols.png\" width=\"600\" >\n",
    "    <i>source: linear algebra and applications by gilbert strang.</i>\n",
    "</div>\n",
    "\n",
    "for example, let there be 2 equation and 3 unkowns/variables:-\n",
    "\n",
    "$$ \n",
    "\\begin{bmatrix}4 & 4 & 4 \\\\1 & 4 & 2 \\\\\\end{bmatrix} \n",
    "\\begin{bmatrix}x_1 \\\\ x_2 \\\\ x_3 \\\\ \\end{bmatrix} \n",
    "= \n",
    "\\begin{bmatrix} 5 \\\\ 1 \\\\ \\end{bmatrix}\n",
    "$$\n",
    "\n",
    "geometrically, both the equation represents a plane and the solution to this system is going to be an entire line which is show below.\n",
    "\n",
    "<div align=\"center\" text-align=\"center\">\n",
    "    <img src=\"Images/linear_eqn_3d.png\" width=\"400\">\n",
    "    <i>source:<a href=\"https://www.geogebra.org/3d\">geogebra</a></i>\n",
    "</div>\n"
   ]
  },
  {
   "cell_type": "markdown",
   "metadata": {},
   "source": [
    "## Matrices\n",
    "\n",
    "Matrices play a central role in linear algebra. They can be used to com-pactly represent systems of linear equations, but they also represent linearfunctions (linear mappings) as we will see later.\n",
    "\n",
    "Defination : matrix $A$ is a m by n-tuple of elements $a_{ij}$  $\\quad i=1,...,m, j= 1,...,n$ which is ordered according to a rectangular scheme consisting of $m$ rows and $n$ columns:-\n",
    "\n",
    "$$\n",
    "A_{m,n} = \n",
    "\\begin{bmatrix}\n",
    "a_{1,1} & a_{1,2} & \\cdots & a_{1,n} \\\\\n",
    "a_{2,1} & a_{2,2} & \\cdots & a_{2,n} \\\\\n",
    "\\vdots  & \\vdots  & \\ddots & \\vdots  \\\\\n",
    "a_{m,1} & a_{m,2} & \\cdots & a_{m,n} \n",
    "\\end{bmatrix}\n",
    "$$\n",
    "\n",
    "\n",
    "* **Addition**:-\n",
    "    $$\n",
    "    A + B := \n",
    "    \\begin{bmatrix}\n",
    "    a_{1,1} + b_{1,1} &  a_{1,2} + b_{1,2} & \\cdots & a_{1,n} + b_{1,n} \\\\\n",
    "    a_{2,1} + b_{2,1} &  a_{2,2} + b_{2,2} & \\cdots & a_{2,n} + b_{2,n} \\\\\n",
    "    \\vdots  & \\vdots  & \\ddots & \\vdots  \\\\\n",
    "    a_{m,1} + b_{m, 1} & a_{m,2} + b_{m,2} & \\cdots & a_{m,n} + b_{m,n}\n",
    "    \\end{bmatrix}\n",
    "    $$\n",
    "    as we can see, adding 2 matrices is simply adding individual elements of matrix. but we need to make sure that the dimensions of 2 matrices must be equal.\n",
    "\n",
    "\n",
    "* **Multiplication**:-\n",
    "\n",
    "    Although, there are several kinds of multiplications but usually, when we talk about matrix multiplication we generally, refer to Dot product.\n",
    "\n",
    "    * Dot Product:-\n",
    "\n",
    "        In dot product, to compute a particular element $c_{ij}$, we multiply the elements of the $i$th row of $A$ matrix with the $j$th column of $B$ matrix and sum them up.\n",
    "\n",
    "        mathematically,\n",
    "        $$ c_{i,j} = \\sum_{i=1}^{n}{a_{il}}{b_{lj}}, \\qquad i=1....,m, \\quad j=1,...,k.$$\n",
    "\n",
    "        suppose we have a 3x2 matrix **A** of dim [3 x 2] and another matrix of dim [2 x 3], using what we have learned uptill now, we can calculate the dot product like this:-\n",
    "\n",
    "        $$\n",
    "        \\begin{aligned}\n",
    "        A \\cdot B  :&= \n",
    "        \\begin{bmatrix}\n",
    "        a_{1,1} & a_{1,2} \\\\\n",
    "        a_{2,1} & a_{2,2} \\\\\n",
    "        a_{3,1} & a_{3,2} \n",
    "        \\end{bmatrix}_{3 \\times 2}\n",
    "        \\cdot\n",
    "        \\begin{bmatrix}\n",
    "        b_{1,1} & b_{1,2} & b_{1,3} \\\\\n",
    "        b_{2,1} & b_{2,2} & b_{2,3} \\\\\n",
    "        \\end{bmatrix}_{2 \\times 3}\\\\\n",
    "        &=\n",
    "        \\begin{bmatrix}\n",
    "        a_{1,1} * b_{1,1} + a_{1,2} * b_{2,1} & a_{1,1} * b_{1,2} + a_{1,2} * b_{2,2} & a_{1,1} * b_{1,3} + a_{1,2} * b_{2,3} \\\\\n",
    "        a_{2,1} * b_{1,1} + a_{2,2} * b_{2,1} & a_{1,1} * b_{1,2} + a_{2,2} * b_{2,2} & a_{2,1} * b_{1,3} + a_{2,2} * b_{2,3} \\\\\n",
    "        a_{3,1} * b_{1,1} + a_{3,2} * b_{2,1} & a_{3,1} * b_{1,2} + a_{3,2} * b_{2,2} & a_{3,1} * b_{1,3} + a_{3,2} * b_{2,3} \\\\\n",
    "        \\end{bmatrix}_{3 \\times 3}\n",
    "        \\\\\n",
    "         &= \n",
    "        \\begin{bmatrix}\n",
    "        c_{1,1} & c_{1,2} & c_{1,3} \\\\\n",
    "        c_{2,1} & c_{2,2} & c_{2,3} \\\\\n",
    "        c_{3,1} & c_{3,2} & c_{3,3} \n",
    "        \\end{bmatrix}\n",
    "        = C_{3 \\times 3}\n",
    "        \\end{aligned}\n",
    "        $$\n",
    "\n",
    "        here, we have to make sure that the inner dimensions of $A$ must be equal to the outer dimension of $B$ in short, the neighbouring dimensions must match.\n",
    "\n",
    "        this also means that,  $AB \\neq BA$ if $m \\neq n$ since because the neighbouring dimensions do not match.\n"
   ]
  },
  {
   "cell_type": "code",
   "execution_count": 29,
   "metadata": {},
   "outputs": [
    {
     "data": {
      "text/plain": [
       "array([[-0.02201333,  0.23914072,  0.29974213],\n",
       "       [-2.79514236,  0.9765006 ,  0.46384985],\n",
       "       [-1.54254287,  4.02567552,  4.71653968]])"
      ]
     },
     "execution_count": 29,
     "metadata": {},
     "output_type": "execute_result"
    }
   ],
   "source": [
    "import numpy as np\n",
    "\n",
    "# generating 2 random matrix\n",
    "A = np.random.randn(3, 2)\n",
    "B = np.random.randn(3,2)\n",
    "\n",
    "np.matmul(A,B.T) # we can also use np.dot\n"
   ]
  },
  {
   "cell_type": "markdown",
   "metadata": {},
   "source": [
    "\n",
    "* hadamard multiplication:-\n",
    "    \n",
    "    Elementwise multiplication is kown as **hadamard multiplication**. which also means that, the dimensions of both the matrix must be equal."
   ]
  },
  {
   "cell_type": "code",
   "execution_count": 30,
   "metadata": {},
   "outputs": [
    {
     "data": {
      "text/plain": [
       "array([[-0.13727103,  0.1152577 ],\n",
       "       [ 1.83779452, -0.86129392],\n",
       "       [ 3.11786829,  1.59867139]])"
      ]
     },
     "execution_count": 30,
     "metadata": {},
     "output_type": "execute_result"
    }
   ],
   "source": [
    "hadamard_multiplication = A * B # here, the shape of both A and B are (3,2) respectively.\n",
    "\n",
    "hadamard_multiplication\n",
    "# Try playing around with the shape and see what happens ;)"
   ]
  },
  {
   "cell_type": "markdown",
   "metadata": {},
   "source": [
    "\n",
    "* Identity Matrix\n",
    "\n",
    "    identity matrix is like matrix form of '1'in our real number intuition, in a sense that by multiplying a vector $M$ by $I$ must give $M$ like $2*1 = 2$.\n",
    "\n",
    "    we define Identity matrix as the n x n-matrix contating 1 on the diagonal and 0 everywhere else.\n",
    "\n",
    "\n",
    "$$\n",
    "I_{n,n} := \n",
    "\\begin{bmatrix}\n",
    "1 & 0 & \\cdots & 0 \\\\\n",
    "0 & 1 & \\cdots & 0 \\\\\n",
    "\\vdots  & \\vdots  & \\ddots & \\vdots  \\\\\n",
    "0 & 0 & \\cdots & 1\n",
    "\\end{bmatrix} \\in \\mathbb{R}^{ (n \\times n )}\n",
    "$$\n"
   ]
  },
  {
   "cell_type": "code",
   "execution_count": 31,
   "metadata": {},
   "outputs": [
    {
     "data": {
      "text/plain": [
       "array([[1., 0., 0., 0., 0., 0., 0., 0., 0., 0.],\n",
       "       [0., 1., 0., 0., 0., 0., 0., 0., 0., 0.],\n",
       "       [0., 0., 1., 0., 0., 0., 0., 0., 0., 0.],\n",
       "       [0., 0., 0., 1., 0., 0., 0., 0., 0., 0.],\n",
       "       [0., 0., 0., 0., 1., 0., 0., 0., 0., 0.],\n",
       "       [0., 0., 0., 0., 0., 1., 0., 0., 0., 0.],\n",
       "       [0., 0., 0., 0., 0., 0., 1., 0., 0., 0.],\n",
       "       [0., 0., 0., 0., 0., 0., 0., 1., 0., 0.],\n",
       "       [0., 0., 0., 0., 0., 0., 0., 0., 1., 0.],\n",
       "       [0., 0., 0., 0., 0., 0., 0., 0., 0., 1.]])"
      ]
     },
     "execution_count": 31,
     "metadata": {},
     "output_type": "execute_result"
    }
   ],
   "source": [
    "n = 10\n",
    "np.eye(n) # creates nxn identity matrix"
   ]
  },
  {
   "cell_type": "markdown",
   "metadata": {},
   "source": [
    "\n",
    "### properties of matrices:\n",
    "\n",
    "Associativity:\n",
    "$$ \\forall A \\in \\mathbb{R}^{m \\times n}  ,B \\in \\mathbb{R}^{n \\times p}, C \\in \\mathbb{R}^{p \\times q} : (AB)C = A(BC)$$\n",
    "\n",
    "Distributivity:\n",
    "$$\n",
    "\\begin{aligned}\n",
    "\\forall A,B \\in \\mathbb{R}^{m \\times n}  ,C \\in \\mathbb{R}^{n \\times p}, D \\in \\mathbb{R}^{n \\times p} : (A+B)C &= AC + BC \\\\\n",
    "A(C+D) &= AC + AD\n",
    "\\end{aligned}\n",
    "$$\n",
    "\n",
    "\n",
    "Multiplication with identity matrix:\n",
    "\n",
    "$$ \n",
    "\\forall A \\in \\mathbb{R}^{m \\times n} : I_mA = AI_n = A\n",
    "$$\n",
    "\n",
    "   Note that $I_m \\neq I_n$   for $m \\neq n.$"
   ]
  },
  {
   "cell_type": "code",
   "execution_count": null,
   "metadata": {},
   "outputs": [],
   "source": []
  }
 ],
 "metadata": {
  "kernelspec": {
   "display_name": "Python 3",
   "language": "python",
   "name": "python3"
  },
  "language_info": {
   "codemirror_mode": {
    "name": "ipython",
    "version": 3
   },
   "file_extension": ".py",
   "mimetype": "text/x-python",
   "name": "python",
   "nbconvert_exporter": "python",
   "pygments_lexer": "ipython3",
   "version": "3.7.5"
  }
 },
 "nbformat": 4,
 "nbformat_minor": 2
}
