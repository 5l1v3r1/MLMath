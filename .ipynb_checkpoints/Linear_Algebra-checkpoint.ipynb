{
 "cells": [
  {
   "cell_type": "markdown",
   "metadata": {},
   "source": [
    "# Mathematics for Machine Learning"
   ]
  },
  {
   "cell_type": "markdown",
   "metadata": {},
   "source": [
    "Compressed material based on **\"Mathematics for Machine Learning\"** by Marc Peter Deisenroth, A Aldo Faisal, and Cheng Soon Ong. To be published by Cambridge University Press. https://mml-book.com\n",
    "\n",
    "📌 **Additional resources:**\n",
    "\n",
    "- [3Blue1Brown](https://www.youtube.com/channel/UCYO_jab_esuFRV4b17AJtAw)\n",
    "- [MathTheBeautiful](https://www.youtube.com/channel/UCr22xikWUK2yUW4YxOKXclQ)"
   ]
  },
  {
   "cell_type": "markdown",
   "metadata": {},
   "source": [
    "**Machine learning** is about designing and training systems to extract valuable information from data and, make predictions and generalize well on unseen data. There are three concepts at the core of machine learning: **data, a model, and learning**. Learning can be understood as a process to automatically find patterns and structure in data by optimizing the parameters of the model.\n",
    "\n",
    "\n",
    "The main concepts in the MML book:\n",
    "- We represent data as vectors (${\\rm I\\!R}$<sup>n</sup> – n-dimensional vector space of real numbers)\n",
    "- We choose an appropriate model, either using the probabilistic or optimization view\n",
    "- We learn from available data by using numerical optimization methods with the aim that the model performs well on data not used for training\n"
   ]
  },
  {
   "cell_type": "markdown",
   "metadata": {},
   "source": [
    "# Linear Algebra"
   ]
  },
  {
   "cell_type": "markdown",
   "metadata": {},
   "source": [
    "![alt-text-1](Images/vector.png \"title-1\") ![alt-text-2](Images/vector.png \"title-2\")\n"
   ]
  },
  {
   "cell_type": "markdown",
   "metadata": {},
   "source": [
    "Linear algebra is the study of vectors and rules to manipulate vectors.\n",
    "\n",
    "In general, vectors are objects that can be **added together** and **multiplied by scalars** to produce another object of the same kind. Any object that satisfies these two properties can be considered a vector (e.g. geometric vectory, polynomials, audio signals, elements of ${\\rm I\\!R}$<sup>n</sup>).\n"
   ]
  },
  {
   "cell_type": "markdown",
   "metadata": {},
   "source": [
    "&nbsp;"
   ]
  },
  {
   "cell_type": "markdown",
   "metadata": {},
   "source": [
    "📌 **YouTube Video (~10min)** \n",
    "\n",
    "### Vectors, what even are they? | Essence of linear algebra, chapter 1\n",
    "3BLUE1BROWN SERIES  S1 • E1 [[Watch video]](https://www.youtube.com/watch?v=fNk_zzaMoSs)"
   ]
  },
  {
   "cell_type": "markdown",
   "metadata": {},
   "source": [
    "[<p align=\"left\"><img src=\"Images/vectors.png\" width=\"400\"></p>](https://www.youtube.com/watch?v=fNk_zzaMoSs)"
   ]
  },
  {
   "cell_type": "markdown",
   "metadata": {},
   "source": [
    "### Geometric vectors\n",
    "\n",
    "Geometric vectors (see Figure a) are directed segments, which can be drawn (at least in two dimensions). Two geometric vectors $\\vec{x}$, $\\vec{y}$ can be added, such that $\\vec{x}$+$\\vec{y}$ = $\\vec{z}$ is another geometric vector. Furthermore, multiplication by a scalar λ $\\vec{x}$, λ ∈ ${\\rm I\\!R}$, is also a geometric vector. In fact, it is the original vector scaled by λ.\n",
    "\n",
    "<p align=\"left\"><img src=\"Images/geom_vectors.png\" width=\"250\"></p>\n",
    "\n",
    "*Image source: Deisenroth et al. (2019)*"
   ]
  },
  {
   "cell_type": "markdown",
   "metadata": {},
   "source": [
    "&nbsp;"
   ]
  },
  {
   "cell_type": "markdown",
   "metadata": {},
   "source": [
    "📌 **YouTube Video (~10min)** \n",
    "\n",
    "### Linear Algebra 2d: Addition of Geometric Vectors\n",
    "Geometric vectors are directed segments. **MathTheBeautiful [[Watch video]](https://www.youtube.com/watch?v=kMP-Q0PF_7g&list=PLlXfTHzgMRUKXD88IdzS14F4NxAZudSmv&index=7&t=0s)**"
   ]
  },
  {
   "cell_type": "markdown",
   "metadata": {},
   "source": [
    "### Elements of ${\\rm I\\!R}$<sup>n</sup> (tuples of n real numbers)\n",
    "\n",
    "${\\rm I\\!R}$<sup>n</sup> is the concept we focus on in this book. For instance,\n",
    "1\n",
    "a = 2 ∈ R3 (2.1)\n",
    "3\n",
    "is an example of a triplet of numbers. Adding two vectors a, b ∈ Rn component-wise results in another vector: a + b = c ∈ Rn. Moreover, multiplying a ∈ Rn by λ ∈ R results in a scaled vector λa ∈ Rn. Considering vectors as elements of Rn has an additional benefit that it loosely corresponds to arrays of real numbers on a computer. Many programming languages support array operations, which allow for con- venient implementation of algorithms that involve vector operations.\n",
    "\n",
    "<p align=\"left\"><img src=\"Images/vector.png\" width=\"150\"></p>\n",
    "\n",
    "*Image source: Deisenroth et al. (2019)*"
   ]
  },
  {
   "cell_type": "markdown",
   "metadata": {},
   "source": [
    "&nbsp;"
   ]
  },
  {
   "cell_type": "markdown",
   "metadata": {},
   "source": [
    "One major idea in mathematics is the idea of \"closure\". In the case of vectors: **What is the set of vectors that can result by starting with a small set of vectors, and adding them to each other and scaling them?** This results in a vector space.\n",
    "\n",
    "<p align=\"left\"><img src=\"Images/systems_lin_eq.png\" width=\"600\"></p>\n",
    "\n",
    "*Image source: Deisenroth et al. (2019)*"
   ]
  },
  {
   "cell_type": "markdown",
   "metadata": {},
   "source": []
  },
  {
   "cell_type": "markdown",
   "metadata": {},
   "source": []
  },
  {
   "cell_type": "code",
   "execution_count": null,
   "metadata": {},
   "outputs": [],
   "source": []
  }
 ],
 "metadata": {
  "kernelspec": {
   "display_name": "Python 3",
   "language": "python",
   "name": "python3"
  },
  "language_info": {
   "codemirror_mode": {
    "name": "ipython",
    "version": 3
   },
   "file_extension": ".py",
   "mimetype": "text/x-python",
   "name": "python",
   "nbconvert_exporter": "python",
   "pygments_lexer": "ipython3",
   "version": "3.6.4"
  }
 },
 "nbformat": 4,
 "nbformat_minor": 2
}
